{
 "cells": [
  {
   "cell_type": "code",
   "outputs": [],
   "source": [
    "from datetime import datetime\n",
    "\n",
    "from vnpy.trader.optimize import OptimizationSetting\n",
    "from vnpy_ctastrategy.backtesting import BacktestingEngine\n",
    "from vnpy_ctastrategy.strategies.atr_rsi_strategy import AtrRsiStrategy"
   ],
   "metadata": {
    "collapsed": false,
    "ExecuteTime": {
     "end_time": "2025-06-30T14:27:47.465170Z",
     "start_time": "2025-06-30T14:27:46.987036Z"
    }
   },
   "execution_count": 5
  },
  {
   "cell_type": "code",
   "outputs": [],
   "source": [
    "engine = BacktestingEngine()\n",
    "engine.set_parameters(\n",
    "    vt_symbol=\"IF888.CFFEX\",\n",
    "    interval=\"1m\",\n",
    "    start=datetime(2019, 1, 1),\n",
    "    end=datetime(2019, 4, 30),\n",
    "    rate=0.3/10000,\n",
    "    slippage=0.2,\n",
    "    size=300,\n",
    "    pricetick=0.2,\n",
    "    capital=1_000_000,\n",
    ")\n",
    "engine.add_strategy(AtrRsiStrategy, {})"
   ],
   "metadata": {
    "collapsed": false,
    "ExecuteTime": {
     "end_time": "2025-06-30T14:27:47.469488Z",
     "start_time": "2025-06-30T14:27:47.465170Z"
    }
   },
   "execution_count": 6
  },
  {
   "cell_type": "code",
   "outputs": [
    {
     "name": "stdout",
     "output_type": "stream",
     "text": [
      "2025-06-30 22:27:47.471491\tStart loading historical data\n",
      "2025-06-30 22:27:47.471491\tLoading progress: # [0%]\n",
      "2025-06-30 22:27:47.566491\tLoading progress: # [9%]\n",
      "2025-06-30 22:27:47.566491\tLoading progress: ## [18%]\n",
      "2025-06-30 22:27:47.567491\tLoading progress: ### [28%]\n",
      "2025-06-30 22:27:47.567491\tLoading progress: #### [37%]\n",
      "2025-06-30 22:27:47.568491\tLoading progress: ##### [46%]\n",
      "2025-06-30 22:27:47.568491\tLoading progress: ###### [55%]\n",
      "2025-06-30 22:27:47.569491\tLoading progress: ####### [65%]\n",
      "2025-06-30 22:27:47.569491\tLoading progress: ######## [74%]\n",
      "2025-06-30 22:27:47.570491\tLoading progress: ######### [83%]\n",
      "2025-06-30 22:27:47.570491\tLoading progress: ########## [92%]\n",
      "2025-06-30 22:27:47.571491\tHistorical data loading completed, data count: 0\n",
      "2025-06-30 22:27:47.571491\tStrategy initialization complete\n",
      "2025-06-30 22:27:47.571491\tStart replaying historical data\n",
      "2025-06-30 22:27:47.571491\tHistorical backtest complete\n",
      "2025-06-30 22:27:47.571491\tStart calculating daily mark-to-market profit and loss\n",
      "2025-06-30 22:27:47.571491\tThe backtest trade record is empty\n"
     ]
    },
    {
     "ename": "KeyError",
     "evalue": "\"None of ['date'] are in the columns\"",
     "output_type": "error",
     "traceback": [
      "\u001B[31m---------------------------------------------------------------------------\u001B[39m",
      "\u001B[31mKeyError\u001B[39m                                  Traceback (most recent call last)",
      "\u001B[36mCell\u001B[39m\u001B[36m \u001B[39m\u001B[32mIn[7]\u001B[39m\u001B[32m, line 3\u001B[39m\n\u001B[32m      1\u001B[39m engine.load_data()\n\u001B[32m      2\u001B[39m engine.run_backtesting()\n\u001B[32m----> \u001B[39m\u001B[32m3\u001B[39m df = engine.calculate_result()\n\u001B[32m      4\u001B[39m engine.calculate_statistics()\n\u001B[32m      5\u001B[39m engine.show_chart()\n",
      "\u001B[36mFile \u001B[39m\u001B[32mC:\\ProgramData\\anaconda3\\envs\\py312\\Lib\\site-packages\\vnpy_ctastrategy\\backtesting.py:288\u001B[39m, in \u001B[36mBacktestingEngine.calculate_result\u001B[39m\u001B[34m(self)\u001B[39m\n\u001B[32m    285\u001B[39m     \u001B[38;5;28;01mfor\u001B[39;00m key, value \u001B[38;5;129;01min\u001B[39;00m daily_result.\u001B[34m__dict__\u001B[39m.items():\n\u001B[32m    286\u001B[39m         results[key].append(value)\n\u001B[32m--> \u001B[39m\u001B[32m288\u001B[39m \u001B[38;5;28mself\u001B[39m.daily_df = DataFrame.from_dict(results).set_index(\u001B[33m\"\u001B[39m\u001B[33mdate\u001B[39m\u001B[33m\"\u001B[39m)\n\u001B[32m    290\u001B[39m \u001B[38;5;28mself\u001B[39m.output(_(\u001B[33m\"\u001B[39m\u001B[33m逐日盯市盈亏计算完成\u001B[39m\u001B[33m\"\u001B[39m))\n\u001B[32m    291\u001B[39m \u001B[38;5;28;01mreturn\u001B[39;00m \u001B[38;5;28mself\u001B[39m.daily_df\n",
      "\u001B[36mFile \u001B[39m\u001B[32mC:\\ProgramData\\anaconda3\\envs\\py312\\Lib\\site-packages\\pandas\\core\\frame.py:6129\u001B[39m, in \u001B[36mDataFrame.set_index\u001B[39m\u001B[34m(self, keys, drop, append, inplace, verify_integrity)\u001B[39m\n\u001B[32m   6126\u001B[39m                 missing.append(col)\n\u001B[32m   6128\u001B[39m \u001B[38;5;28;01mif\u001B[39;00m missing:\n\u001B[32m-> \u001B[39m\u001B[32m6129\u001B[39m     \u001B[38;5;28;01mraise\u001B[39;00m \u001B[38;5;167;01mKeyError\u001B[39;00m(\u001B[33mf\u001B[39m\u001B[33m\"\u001B[39m\u001B[33mNone of \u001B[39m\u001B[38;5;132;01m{\u001B[39;00mmissing\u001B[38;5;132;01m}\u001B[39;00m\u001B[33m are in the columns\u001B[39m\u001B[33m\"\u001B[39m)\n\u001B[32m   6131\u001B[39m \u001B[38;5;28;01mif\u001B[39;00m inplace:\n\u001B[32m   6132\u001B[39m     frame = \u001B[38;5;28mself\u001B[39m\n",
      "\u001B[31mKeyError\u001B[39m: \"None of ['date'] are in the columns\""
     ]
    }
   ],
   "source": [
    "engine.load_data()\n",
    "engine.run_backtesting()\n",
    "df = engine.calculate_result()\n",
    "engine.calculate_statistics()\n",
    "engine.show_chart()"
   ],
   "metadata": {
    "collapsed": false,
    "ExecuteTime": {
     "end_time": "2025-06-30T14:27:48.285961Z",
     "start_time": "2025-06-30T14:27:47.470490Z"
    }
   },
   "execution_count": 7
  },
  {
   "cell_type": "code",
   "outputs": [],
   "source": [
    "setting = OptimizationSetting()\n",
    "setting.set_target(\"sharpe_ratio\")\n",
    "setting.add_parameter(\"atr_length\", 25, 27, 1)\n",
    "setting.add_parameter(\"atr_ma_length\", 10, 30, 10)\n",
    "\n",
    "engine.run_ga_optimization(setting)"
   ],
   "metadata": {
    "collapsed": false,
    "ExecuteTime": {
     "start_time": "2025-06-30T14:27:48.286964Z"
    }
   }
  },
  {
   "cell_type": "code",
   "outputs": [],
   "source": [
    "engine.run_bf_optimization(setting)"
   ],
   "metadata": {
    "collapsed": false,
    "ExecuteTime": {
     "start_time": "2025-06-30T14:27:48.287965Z"
    }
   },
   "execution_count": null
  }
 ],
 "metadata": {
  "kernelspec": {
   "display_name": "Python 3",
   "language": "python",
   "name": "python3"
  },
  "language_info": {
   "codemirror_mode": {
    "name": "ipython",
    "version": 3
   },
   "file_extension": ".py",
   "mimetype": "text/x-python",
   "name": "python",
   "nbconvert_exporter": "python",
   "pygments_lexer": "ipython3",
   "version": "3.10.2"
  }
 },
 "nbformat": 4,
 "nbformat_minor": 2
}
